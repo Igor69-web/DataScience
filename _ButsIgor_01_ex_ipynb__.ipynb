{
  "cells": [
    {
      "cell_type": "markdown",
      "metadata": {
        "id": "Jyrf8xk3k6Ys"
      },
      "source": [
        "# Лабораторная работа к лекции 1\n",
        "Ваше имя: Игорь Буц\n",
        "\n",
        "Ваш адрес электронной почты:butsid@mgpu.ru"
      ]
    },
    {
      "cell_type": "markdown",
      "metadata": {
        "id": "86N7viRzk6Yt"
      },
      "source": [
        "## Упражнение 1.1. Типы данных и операции\n",
        "1. Определите две переменные и присвойте первой целое число, а второй — число с плавающей запятой. Определите новую переменную и присвойте сумму двух предыдущих переменных. Каков тип данных третьей переменной?\n",
        "2. Переназначьте переменную с другим типом данных, например, возьмите одну из числовых переменных и присвойте ей строку. Какой новый тип данных?\n",
        "3. Посмотрите, что произойдет, если вы попытаетесь добавить строку к строке.\n",
        "4. Посмотрите, что произойдет, если вы добавите строку к числу с плавающей запятой или целому числу."
      ]
    },
    {
      "cell_type": "code",
      "execution_count": 1,
      "metadata": {
        "id": "9ZgZCUPNk6Yt",
        "colab": {
          "base_uri": "https://localhost:8080/",
          "height": 157
        },
        "outputId": "c7475c27-a7f7-49b2-bd8d-4b07fcf8d2ba"
      },
      "outputs": [
        {
          "output_type": "stream",
          "name": "stdout",
          "text": [
            "<class 'int'>\n",
            "<class 'float'>\n",
            "1 1.2\n",
            "2.2\n",
            "<class 'float'>\n",
            "<class 'str'>\n",
            "11.2\n"
          ]
        },
        {
          "output_type": "execute_result",
          "data": {
            "text/plain": [
              "\"\\ng = int(1)\\nv = str(2)\\n\\ns = g+v   #Выдаст ошибку - unsupported operand type(s) for +: 'int' and 'str'\\nprint(s)\\n\\n\""
            ],
            "application/vnd.google.colaboratory.intrinsic+json": {
              "type": "string"
            }
          },
          "metadata": {},
          "execution_count": 1
        }
      ],
      "source": [
        "#1\n",
        "a = int(1)\n",
        "b = float(1.2)\n",
        "print(type(a))\n",
        "print(type(b))\n",
        "print(a,b)\n",
        "\n",
        "c = a + b\n",
        "print(c)\n",
        "print(type(c))\n",
        "\n",
        "#2\n",
        "a = str(a)\n",
        "b = str(b)\n",
        "print(type(a))\n",
        "#3\n",
        "f = a+b  #вместо 2.2 произошло слияние 11.2\n",
        "print(f)\n",
        "\n",
        "#4\n",
        "\"\"\"\n",
        "g = int(1)\n",
        "v = str(2)\n",
        "\n",
        "s = g+v   #Выдаст ошибку - unsupported operand type(s) for +: 'int' and 'str'\n",
        "print(s)\n",
        "\n",
        "\"\"\"\n",
        "\n"
      ]
    },
    {
      "cell_type": "markdown",
      "metadata": {
        "id": "ZMoobyT-k6Yu"
      },
      "source": [
        "## Упражнение 1.2. Запуск программ\n",
        "\n",
        "  * Создайте новый файл Python(или файл с расширением `.ipynb`) и используйте функцию `double_number` в качестве шаблона. Измените код, чтобы добавить два числа вместо удвоения одного числа.\n",
        "  * Можете ли вы догадаться, что произойдет, если изменить отступ? Выполните данное действие.\n",
        "  * Попробуйте, что произойдет, если вы напечатаете `a` в самом конце программы. Пояснить, что происходит?\n",
        " [Текст ссылки](https://)"
      ]
    },
    {
      "cell_type": "code",
      "execution_count": 2,
      "metadata": {
        "id": "N2v5UHG1k6Yu",
        "colab": {
          "base_uri": "https://localhost:8080/",
          "height": 70
        },
        "outputId": "bf7f24f4-5e6f-4c79-edb7-8915f330d026"
      },
      "outputs": [
        {
          "output_type": "stream",
          "name": "stdout",
          "text": [
            "5\n",
            "16.22\n"
          ]
        },
        {
          "output_type": "execute_result",
          "data": {
            "text/plain": [
              "'1'"
            ],
            "application/vnd.google.colaboratory.intrinsic+json": {
              "type": "string"
            }
          },
          "metadata": {},
          "execution_count": 2
        }
      ],
      "source": [
        "def double_number(a):\n",
        "  a+=2 #если изменить отступ будет invalid syntax\n",
        "  return a\n",
        "print(double_number(3))\n",
        "print(double_number(14.22))\n",
        "a # выведет '1'"
      ]
    },
    {
      "cell_type": "markdown",
      "metadata": {
        "id": "15GtjpzGk6Yu"
      },
      "source": [
        "## Упражнение 1.3. Создание ячеек, выполнение кода\n",
        "\n",
        "1. Создайте новую ячейку кода ниже, где вы определите переменные, содержащие ваше имя, ваш возраст  и вашу специальность.\n",
        "2. Создайте еще одну ячейку, использующую эти переменные, и выведите объединенную строку с указанием вашего имени, специальности и возраста в годах, месяцах и днях (при условии, что сегодня ваш день рождения). Вывод должен выглядеть так:\n",
        "\n",
        "```\n",
        "Имя: Кот-ученый, Специальность: Бизнес-Информатика, Возраст: 18 лет, или 216 месяцев, или 6480 дней..\n",
        "```"
      ]
    },
    {
      "cell_type": "code",
      "source": [
        "name = \"Игорь\"\n",
        "age = 19\n",
        "spec = \"Бизнес-Информатика\"\n",
        "\n",
        "print(f\"Имя: {name}, Специальность: {spec}, Возраст: {age} лет, или {age*12} месяцев, или {age*12*30} дней...\")"
      ],
      "metadata": {
        "colab": {
          "base_uri": "https://localhost:8080/"
        },
        "id": "GkIoLqyk0KKG",
        "outputId": "a08945bc-089c-45d5-c636-1b3ba2ebd915"
      },
      "execution_count": 3,
      "outputs": [
        {
          "output_type": "stream",
          "name": "stdout",
          "text": [
            "Имя: Игорь, Специальность: Бизнес-Информатика, Возраст: 19 лет, или 228 месяцев, или 6840 дней...\n"
          ]
        }
      ]
    },
    {
      "cell_type": "markdown",
      "metadata": {
        "id": "bPTBzjXhk6Yu"
      },
      "source": [
        "## Упражнение 1.4: Функции\n",
        "Напишите функцию, которая\n",
        "  * принимает две числовые переменные\n",
        "  * умножает их друг на друга\n",
        "  * делит их на числовую переменную, определенную в области видимости вне функции\n",
        "  * и возвращает результат.\n",
        "\n",
        "Выведите результат функции для трех разных наборов входных переменных."
      ]
    },
    {
      "cell_type": "code",
      "execution_count": 4,
      "metadata": {
        "id": "z7DKIUQCk6Yu",
        "colab": {
          "base_uri": "https://localhost:8080/"
        },
        "outputId": "7b9ecb09-3d6f-4389-a0b6-8ee911cfe43e"
      },
      "outputs": [
        {
          "output_type": "stream",
          "name": "stdout",
          "text": [
            "4\n",
            "5\n",
            "10.0\n"
          ]
        }
      ],
      "source": [
        "a = int(2)\n",
        "x = int(input())\n",
        "y = int(input())\n",
        "\n",
        "def f(x,y):\n",
        "  c = ((x*y)/a)\n",
        "  return c\n",
        "print(f(x,y))"
      ]
    },
    {
      "cell_type": "markdown",
      "metadata": {
        "id": "93hGPrQhwVUu"
      },
      "source": [
        "## Упражнение 1.5*\n",
        "\n",
        "Есть некоторые данные о количестве книг, прочитанных разными людьми, работающими в книжном магазине Владимира. Создайте код Python, который учитывает каждого человека и выводит, сколько книг он прочитал. Если кто-то прочитал 0 книг, выведите «___ не читал ни одной книги!» вместо количества книг."
      ]
    },
    {
      "cell_type": "code",
      "execution_count": 5,
      "metadata": {
        "id": "KLnnTUi_wVUv",
        "colab": {
          "base_uri": "https://localhost:8080/"
        },
        "outputId": "04e83cbb-d75f-4ac7-8711-426fa55d9c65"
      },
      "outputs": [
        {
          "output_type": "stream",
          "name": "stdout",
          "text": [
            "[('Krishnang', 12), ('Steve', 6), ('Jimmy', 0), ('Mary', 7), ('Divya', 4), ('Robert', 10), ('Yulia', 15)]\n"
          ]
        }
      ],
      "source": [
        "people = ['Krishnang', 'Steve', 'Jimmy', 'Mary', 'Divya', 'Robert', 'Yulia']\n",
        "books_read = [12, 6, 0, 7, 4, 10, 15]\n",
        "result = list(zip(people,books_read))\n",
        "print(result)"
      ]
    },
    {
      "cell_type": "markdown",
      "metadata": {
        "id": "GV9Uq-KqwVUv"
      },
      "source": [
        "Существует несколько способов решить эту задачу: можно изучить функцию `zip()`, использовать `enumerate()`, `range` и `len` или использовать другие методы. Чтобы напечатать имена и значения, вы можете использовать конкатенацию строк (+), форматирование f-строки или другие методы."
      ]
    },
    {
      "cell_type": "code",
      "execution_count": 28,
      "metadata": {
        "id": "Kkp1pUDswVUv"
      },
      "outputs": [],
      "source": [
        "def zip_method(names, books):\n",
        "    books[books.index(0)] = \"не прочитал ни одной книги\"\n",
        "    zip_method = list(zip(names, books))\n",
        "    result = ', '.join(f'{person} прочитал {books}' for person, books in zip_method)\n",
        "    return(result)\n"
      ]
    },
    {
      "cell_type": "markdown",
      "metadata": {
        "id": "CN5BcHr4wVUw"
      },
      "source": [
        "Преобразуйте только что созданный цикл в функцию, которая принимает два списка (прочитанные книги и людей) в качестве аргументов."
      ]
    },
    {
      "cell_type": "code",
      "execution_count": 29,
      "metadata": {
        "id": "rrbiOylewVUw",
        "colab": {
          "base_uri": "https://localhost:8080/"
        },
        "outputId": "fb985edd-e59a-42e4-90a3-a68dfb588c90"
      },
      "outputs": [
        {
          "output_type": "stream",
          "name": "stdout",
          "text": [
            "Krishnang прочитал 12, Steve прочитал 6, Jimmy прочитал не прочитал ни одной книги, Mary прочитал 7, Divya прочитал 4, Robert прочитал 10, Yulia прочитал 15\n"
          ]
        }
      ],
      "source": [
        "people = ['Krishnang', 'Steve', 'Jimmy', 'Mary', 'Divya', 'Robert', 'Yulia']\n",
        "books_read = [12, 6, 0, 7, 4, 10, 15]\n",
        "print(zip_method(people, books_read))"
      ]
    },
    {
      "cell_type": "markdown",
      "metadata": {
        "id": "oPzT4DvAwVUw"
      },
      "source": [
        "Отсортируйте значения `books_read` от большего к меньшему и выведите трех первых людей с количеством прочитанных ими книг. Некоторые возможные способы решения этой задачи включают использование сортировки аргументов `NumPy`, создание словаря и создание кортежей."
      ]
    },
    {
      "cell_type": "code",
      "execution_count": 62,
      "metadata": {
        "id": "C1e8S-1xwVUw",
        "colab": {
          "base_uri": "https://localhost:8080/"
        },
        "outputId": "0928ce10-5be3-409a-93dc-7f57bc768993"
      },
      "outputs": [
        {
          "output_type": "stream",
          "name": "stdout",
          "text": [
            "[('Krishnang', 15), ('Steve', 12), ('Jimmy', 10)]\n"
          ]
        }
      ],
      "source": [
        "import numpy as np\n",
        "people = ['Krishnang', 'Steve', 'Jimmy', 'Mary', 'Divya', 'Robert', 'Yulia']\n",
        "books_read = [12, 6, 0, 7, 4, 10, 15]\n",
        "sort = np.sort(books_read)[::-1][0:3]\n",
        "result = list(zip(people,sort))\n",
        "print(result)"
      ]
    }
  ],
  "metadata": {
    "colab": {
      "provenance": []
    },
    "kernelspec": {
      "display_name": "Python 3 (ipykernel)",
      "language": "python",
      "name": "python3"
    },
    "language_info": {
      "codemirror_mode": {
        "name": "ipython",
        "version": 3
      },
      "file_extension": ".py",
      "mimetype": "text/x-python",
      "name": "python",
      "nbconvert_exporter": "python",
      "pygments_lexer": "ipython3",
      "version": "3.9.13"
    }
  },
  "nbformat": 4,
  "nbformat_minor": 0
}